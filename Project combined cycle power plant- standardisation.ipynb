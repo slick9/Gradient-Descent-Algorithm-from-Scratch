{
 "cells": [
  {
   "cell_type": "code",
   "execution_count": 1,
   "metadata": {},
   "outputs": [],
   "source": [
    "import numpy as np"
   ]
  },
  {
   "cell_type": "code",
   "execution_count": 3,
   "metadata": {},
   "outputs": [],
   "source": [
    "data = np.genfromtxt(\"ccpp_train.csv\",delimiter = \",\")"
   ]
  },
  {
   "cell_type": "code",
   "execution_count": 4,
   "metadata": {},
   "outputs": [
    {
     "data": {
      "text/plain": [
       "numpy.ndarray"
      ]
     },
     "execution_count": 4,
     "metadata": {},
     "output_type": "execute_result"
    }
   ],
   "source": [
    "type(data)"
   ]
  },
  {
   "cell_type": "code",
   "execution_count": 5,
   "metadata": {},
   "outputs": [
    {
     "data": {
      "text/plain": [
       "(7176, 5)"
      ]
     },
     "execution_count": 5,
     "metadata": {},
     "output_type": "execute_result"
    }
   ],
   "source": [
    "data.shape"
   ]
  },
  {
   "cell_type": "code",
   "execution_count": 6,
   "metadata": {},
   "outputs": [],
   "source": [
    "X = data[:,:-1]\n",
    "Y = data[:,-1].reshape(-1,1)"
   ]
  },
  {
   "cell_type": "code",
   "execution_count": 7,
   "metadata": {},
   "outputs": [
    {
     "data": {
      "text/plain": [
       "(7176, 4)"
      ]
     },
     "execution_count": 7,
     "metadata": {},
     "output_type": "execute_result"
    }
   ],
   "source": [
    "X.shape"
   ]
  },
  {
   "cell_type": "code",
   "execution_count": 8,
   "metadata": {},
   "outputs": [
    {
     "data": {
      "text/plain": [
       "(7176, 1)"
      ]
     },
     "execution_count": 8,
     "metadata": {},
     "output_type": "execute_result"
    }
   ],
   "source": [
    "Y.shape"
   ]
  },
  {
   "cell_type": "code",
   "execution_count": 9,
   "metadata": {},
   "outputs": [
    {
     "data": {
      "text/plain": [
       "StandardScaler(copy=True, with_mean=True, with_std=True)"
      ]
     },
     "execution_count": 9,
     "metadata": {},
     "output_type": "execute_result"
    }
   ],
   "source": [
    "from sklearn import preprocessing\n",
    "scaler = preprocessing.StandardScaler()\n",
    "scaler.fit(X)"
   ]
  },
  {
   "cell_type": "code",
   "execution_count": 10,
   "metadata": {},
   "outputs": [
    {
     "data": {
      "text/plain": [
       "array([[   8.58,   38.38, 1021.03,   84.37],\n",
       "       [  21.79,   58.2 , 1017.21,   66.74],\n",
       "       [  16.64,   48.92, 1011.55,   78.76],\n",
       "       ...,\n",
       "       [  29.8 ,   69.34, 1009.36,   64.74],\n",
       "       [  16.37,   54.3 , 1017.94,   63.63],\n",
       "       [  30.11,   62.04, 1010.69,   47.96]])"
      ]
     },
     "execution_count": 10,
     "metadata": {},
     "output_type": "execute_result"
    }
   ],
   "source": [
    "X"
   ]
  },
  {
   "cell_type": "code",
   "execution_count": 11,
   "metadata": {},
   "outputs": [],
   "source": [
    "X = scaler.transform(X)\n"
   ]
  },
  {
   "cell_type": "code",
   "execution_count": 51,
   "metadata": {},
   "outputs": [
    {
     "data": {
      "text/plain": [
       "(7176, 4)"
      ]
     },
     "execution_count": 51,
     "metadata": {},
     "output_type": "execute_result"
    }
   ],
   "source": [
    "X.shape"
   ]
  },
  {
   "cell_type": "code",
   "execution_count": 52,
   "metadata": {},
   "outputs": [],
   "source": [
    "v = np.ones((len(data),1))\n",
    "X = np.append(X,v,axis=1)"
   ]
  },
  {
   "cell_type": "code",
   "execution_count": 53,
   "metadata": {},
   "outputs": [
    {
     "data": {
      "text/plain": [
       "(7176, 5)"
      ]
     },
     "execution_count": 53,
     "metadata": {},
     "output_type": "execute_result"
    }
   ],
   "source": [
    "X.shape"
   ]
  },
  {
   "cell_type": "code",
   "execution_count": 54,
   "metadata": {},
   "outputs": [],
   "source": [
    "M = len(data)\n",
    "n = X.shape[1]"
   ]
  },
  {
   "cell_type": "markdown",
   "metadata": {},
   "source": [
    "## writing gradient descent algo"
   ]
  },
  {
   "cell_type": "code",
   "execution_count": 55,
   "metadata": {},
   "outputs": [],
   "source": [
    "def step_gradient(m,learning_rate,X,Y):\n",
    "    m_slope = np.zeros(n)\n",
    "    for i in range(M):\n",
    "        x = X[i,:]\n",
    "        y = Y[i]\n",
    "        for j in range(n):\n",
    "            m_slope[j] += (-2/M)*((y - np.sum(m*x))*x[j])\n",
    "    m = m - learning_rate*m_slope\n",
    "    return m"
   ]
  },
  {
   "cell_type": "code",
   "execution_count": 56,
   "metadata": {},
   "outputs": [],
   "source": [
    "def cost(x,y,m):\n",
    "    total_cost = 0\n",
    "    for i in range(M):\n",
    "        x = X[i,:]\n",
    "        y = Y[i]\n",
    "        total_cost += ((1/M)*(((y-np.sum(m*x)))**2))\n",
    "    return total_cost"
   ]
  },
  {
   "cell_type": "code",
   "execution_count": 57,
   "metadata": {},
   "outputs": [],
   "source": [
    "def gd(learning_rate,num_iterations,x,y):\n",
    "    m = np.zeros(n)\n",
    "    for i in range(num_iterations):\n",
    "        m = step_gradient(m,learning_rate,x,y)\n",
    "        print(i, \"the cost is\",cost(x,y,m))\n",
    "    return m "
   ]
  },
  {
   "cell_type": "code",
   "execution_count": 58,
   "metadata": {},
   "outputs": [],
   "source": [
    "def run():\n",
    "    M = len(data)\n",
    "    n = X.shape[1]\n",
    "    learning_rate = .4\n",
    "    num_iterations = 200\n",
    "    x = X\n",
    "    y = Y\n",
    "    m = gd(learning_rate,num_iterations,x,y)\n",
    "    return m"
   ]
  },
  {
   "cell_type": "code",
   "execution_count": 34,
   "metadata": {},
   "outputs": [
    {
     "name": "stdout",
     "output_type": "stream",
     "text": [
      "0 the cost is [206766.93958422]\n",
      "1 the cost is [206743.04844685]\n",
      "2 the cost is [206723.27380463]\n",
      "3 the cost is [206705.87351333]\n",
      "4 the cost is [206690.22244688]\n",
      "5 the cost is [206676.03195177]\n",
      "6 the cost is [206663.12707822]\n",
      "7 the cost is [206651.37688699]\n",
      "8 the cost is [206640.67163897]\n",
      "9 the cost is [206630.91482353]\n",
      "10 the cost is [206622.01996911]\n",
      "11 the cost is [206613.90904369]\n",
      "12 the cost is [206606.51142371]\n",
      "13 the cost is [206599.76309961]\n",
      "14 the cost is [206593.60600636]\n",
      "15 the cost is [206587.98743739]\n",
      "16 the cost is [206582.85952403]\n",
      "17 the cost is [206578.17877011]\n",
      "18 the cost is [206573.90563476]\n",
      "19 the cost is [206570.00415769]\n",
      "20 the cost is [206566.44162221]\n",
      "21 the cost is [206563.18825186]\n",
      "22 the cost is [206560.21693703]\n",
      "23 the cost is [206557.50298836]\n",
      "24 the cost is [206555.02391408]\n",
      "25 the cost is [206552.75921883]\n",
      "26 the cost is [206550.69022174]\n",
      "27 the cost is [206548.79989182]\n",
      "28 the cost is [206547.07269883]\n",
      "29 the cost is [206545.49447819]\n",
      "30 the cost is [206544.05230848]\n",
      "31 the cost is [206542.73440025]\n",
      "32 the cost is [206541.52999519]\n",
      "33 the cost is [206540.42927438]\n",
      "34 the cost is [206539.42327513]\n",
      "35 the cost is [206538.5038152]\n",
      "36 the cost is [206537.66342398]\n",
      "37 the cost is [206536.89527984]\n",
      "38 the cost is [206536.19315314]\n",
      "39 the cost is [206535.55135431]\n",
      "40 the cost is [206534.96468655]\n",
      "41 the cost is [206534.42840283]\n",
      "42 the cost is [206533.93816661]\n",
      "43 the cost is [206533.49001604]\n",
      "44 the cost is [206533.08033142]\n",
      "45 the cost is [206532.70580542]\n",
      "46 the cost is [206532.36341595]\n",
      "47 the cost is [206532.05040144]\n",
      "48 the cost is [206531.76423829]\n",
      "49 the cost is [206531.5026202]\n",
      "50 the cost is [206531.26343942]\n",
      "51 the cost is [206531.0447696]\n",
      "52 the cost is [206530.84485007]\n",
      "53 the cost is [206530.66207159]\n",
      "54 the cost is [206530.49496325]\n",
      "55 the cost is [206530.34218056]\n",
      "56 the cost is [206530.20249455]\n",
      "57 the cost is [206530.0747818]\n",
      "58 the cost is [206529.95801541]\n",
      "59 the cost is [206529.85125661]\n",
      "60 the cost is [206529.75364725]\n",
      "61 the cost is [206529.66440283]\n",
      "62 the cost is [206529.58280617]\n",
      "63 the cost is [206529.50820163]\n",
      "64 the cost is [206529.43998981]\n",
      "65 the cost is [206529.37762275]\n",
      "66 the cost is [206529.32059948]\n",
      "67 the cost is [206529.26846199]\n",
      "68 the cost is [206529.22079154]\n",
      "69 the cost is [206529.17720532]\n",
      "70 the cost is [206529.13735331]\n",
      "71 the cost is [206529.10091553]\n",
      "72 the cost is [206529.06759941]\n",
      "73 the cost is [206529.03713746]\n",
      "74 the cost is [206529.00928513]\n",
      "75 the cost is [206528.98381883]\n",
      "76 the cost is [206528.96053411]\n",
      "77 the cost is [206528.93924407]\n",
      "78 the cost is [206528.91977781]\n",
      "79 the cost is [206528.90197909]\n",
      "80 the cost is [206528.88570504]\n",
      "81 the cost is [206528.87082504]\n",
      "82 the cost is [206528.85721967]\n",
      "83 the cost is [206528.84477973]\n",
      "84 the cost is [206528.83340538]\n",
      "85 the cost is [206528.82300535]\n",
      "86 the cost is [206528.81349616]\n",
      "87 the cost is [206528.80480151]\n",
      "88 the cost is [206528.79685161]\n",
      "89 the cost is [206528.78958268]\n",
      "90 the cost is [206528.78293638]\n",
      "91 the cost is [206528.77685937]\n",
      "92 the cost is [206528.77130289]\n",
      "93 the cost is [206528.76622236]\n",
      "94 the cost is [206528.761577]\n",
      "95 the cost is [206528.75732953]\n",
      "96 the cost is [206528.75344589]\n",
      "97 the cost is [206528.74989489]\n",
      "98 the cost is [206528.74664805]\n",
      "99 the cost is [206528.74367931]\n",
      "100 the cost is [206528.74096487]\n",
      "101 the cost is [206528.73848292]\n",
      "102 the cost is [206528.73621356]\n",
      "103 the cost is [206528.73413857]\n",
      "104 the cost is [206528.73224132]\n",
      "105 the cost is [206528.73050657]\n",
      "106 the cost is [206528.72892041]\n",
      "107 the cost is [206528.72747011]\n",
      "108 the cost is [206528.72614403]\n",
      "109 the cost is [206528.72493154]\n",
      "110 the cost is [206528.72382289]\n",
      "111 the cost is [206528.72280921]\n",
      "112 the cost is [206528.72188235]\n",
      "113 the cost is [206528.72103488]\n",
      "114 the cost is [206528.72025999]\n",
      "115 the cost is [206528.71955148]\n",
      "116 the cost is [206528.71890365]\n",
      "117 the cost is [206528.71831132]\n",
      "118 the cost is [206528.71776971]\n",
      "119 the cost is [206528.7172745]\n",
      "120 the cost is [206528.7168217]\n",
      "121 the cost is [206528.71640768]\n",
      "122 the cost is [206528.71602913]\n",
      "123 the cost is [206528.715683]\n",
      "124 the cost is [206528.71536652]\n",
      "125 the cost is [206528.71507714]\n",
      "126 the cost is [206528.71481255]\n",
      "127 the cost is [206528.71457062]\n",
      "128 the cost is [206528.71434942]\n",
      "129 the cost is [206528.71414716]\n",
      "130 the cost is [206528.71396222]\n",
      "131 the cost is [206528.71379313]\n",
      "132 the cost is [206528.71363851]\n",
      "133 the cost is [206528.71349715]\n",
      "134 the cost is [206528.71336789]\n",
      "135 the cost is [206528.7132497]\n",
      "136 the cost is [206528.71314163]\n",
      "137 the cost is [206528.71304282]\n",
      "138 the cost is [206528.71295247]\n",
      "139 the cost is [206528.71286987]\n",
      "140 the cost is [206528.71279433]\n",
      "141 the cost is [206528.71272527]\n",
      "142 the cost is [206528.71266212]\n",
      "143 the cost is [206528.71260438]\n",
      "144 the cost is [206528.71255159]\n",
      "145 the cost is [206528.71250332]\n",
      "146 the cost is [206528.71245918]\n",
      "147 the cost is [206528.71241883]\n",
      "148 the cost is [206528.71238192]\n",
      "149 the cost is [206528.71234818]\n",
      "150 the cost is [206528.71231734]\n",
      "151 the cost is [206528.71228913]\n",
      "152 the cost is [206528.71226334]\n",
      "153 the cost is [206528.71223975]\n",
      "154 the cost is [206528.71221819]\n",
      "155 the cost is [206528.71219848]\n",
      "156 the cost is [206528.71218045]\n",
      "157 the cost is [206528.71216397]\n",
      "158 the cost is [206528.7121489]\n",
      "159 the cost is [206528.71213512]\n",
      "160 the cost is [206528.71212251]\n",
      "161 the cost is [206528.71211099]\n",
      "162 the cost is [206528.71210046]\n",
      "163 the cost is [206528.71209083]\n",
      "164 the cost is [206528.71208202]\n",
      "165 the cost is [206528.71207397]\n",
      "166 the cost is [206528.71206661]\n",
      "167 the cost is [206528.71205987]\n",
      "168 the cost is [206528.71205372]\n",
      "169 the cost is [206528.71204809]\n",
      "170 the cost is [206528.71204295]\n",
      "171 the cost is [206528.71203824]\n",
      "172 the cost is [206528.71203394]\n",
      "173 the cost is [206528.71203]\n",
      "174 the cost is [206528.71202641]\n",
      "175 the cost is [206528.71202312]\n",
      "176 the cost is [206528.71202011]\n",
      "177 the cost is [206528.71201736]\n",
      "178 the cost is [206528.71201485]\n",
      "179 the cost is [206528.71201255]\n",
      "180 the cost is [206528.71201045]\n",
      "181 the cost is [206528.71200853]\n",
      "182 the cost is [206528.71200677]\n",
      "183 the cost is [206528.71200516]\n",
      "184 the cost is [206528.71200369]\n",
      "185 the cost is [206528.71200235]\n",
      "186 the cost is [206528.71200112]\n",
      "187 the cost is [206528.712]\n",
      "188 the cost is [206528.71199897]\n",
      "189 the cost is [206528.71199803]\n",
      "190 the cost is [206528.71199717]\n",
      "191 the cost is [206528.71199639]\n",
      "192 the cost is [206528.71199567]\n",
      "193 the cost is [206528.71199501]\n",
      "194 the cost is [206528.71199441]\n",
      "195 the cost is [206528.71199387]\n",
      "196 the cost is [206528.71199336]\n",
      "197 the cost is [206528.71199291]\n",
      "198 the cost is [206528.71199249]\n",
      "199 the cost is [206528.7119921]\n"
     ]
    },
    {
     "data": {
      "text/plain": [
       "array([-14.90193452,  -2.89355451,   0.34921642,  -2.34279618])"
      ]
     },
     "execution_count": 34,
     "metadata": {},
     "output_type": "execute_result"
    }
   ],
   "source": [
    "#run()"
   ]
  },
  {
   "cell_type": "code",
   "execution_count": 59,
   "metadata": {},
   "outputs": [
    {
     "name": "stdout",
     "output_type": "stream",
     "text": [
      "0 the cost is [8519.45135476]\n",
      "1 the cost is [565.66068821]\n",
      "2 the cost is [228.69006483]\n",
      "3 the cost is [198.60193427]\n",
      "4 the cost is [182.44335426]\n",
      "5 the cost is [168.23255861]\n",
      "6 the cost is [155.32687303]\n",
      "7 the cost is [143.57664932]\n",
      "8 the cost is [132.87140001]\n",
      "9 the cost is [123.11458451]\n",
      "10 the cost is [114.21973009]\n",
      "11 the cost is [106.10880467]\n",
      "12 the cost is [98.71118469]\n",
      "13 the cost is [91.96286059]\n",
      "14 the cost is [85.80576734]\n",
      "15 the cost is [80.18719837]\n",
      "16 the cost is [75.05928501]\n",
      "17 the cost is [70.37853109]\n",
      "18 the cost is [66.10539575]\n",
      "19 the cost is [62.20391867]\n",
      "20 the cost is [58.64138319]\n",
      "21 the cost is [55.38801284]\n",
      "22 the cost is [52.41669801]\n",
      "23 the cost is [49.70274934]\n",
      "24 the cost is [47.22367506]\n",
      "25 the cost is [44.95897981]\n",
      "26 the cost is [42.88998272]\n",
      "27 the cost is [40.9996528]\n",
      "28 the cost is [39.27245981]\n",
      "29 the cost is [37.69423917]\n",
      "30 the cost is [36.25206946]\n",
      "31 the cost is [34.93416123]\n",
      "32 the cost is [33.72975617]\n",
      "33 the cost is [32.62903536]\n",
      "34 the cost is [31.62303611]\n",
      "35 the cost is [30.70357618]\n",
      "36 the cost is [29.86318496]\n",
      "37 the cost is [29.09504082]\n",
      "38 the cost is [28.39291413]\n",
      "39 the cost is [27.75111529]\n",
      "40 the cost is [27.16444753]\n",
      "41 the cost is [26.62816381]\n",
      "42 the cost is [26.13792759]\n",
      "43 the cost is [25.68977702]\n",
      "44 the cost is [25.2800924]\n",
      "45 the cost is [24.9055664]\n",
      "46 the cost is [24.56317693]\n",
      "47 the cost is [24.25016243]\n",
      "48 the cost is [23.96399927]\n",
      "49 the cost is [23.70238118]\n",
      "50 the cost is [23.4632004]\n",
      "51 the cost is [23.24453058]\n",
      "52 the cost is [23.04461105]\n",
      "53 the cost is [22.86183257]\n",
      "54 the cost is [22.69472423]\n",
      "55 the cost is [22.54194154]\n",
      "56 the cost is [22.40225553]\n",
      "57 the cost is [22.27454278]\n",
      "58 the cost is [22.15777639]\n",
      "59 the cost is [22.05101759]\n",
      "60 the cost is [21.95340823]\n",
      "61 the cost is [21.86416381]\n",
      "62 the cost is [21.78256715]\n",
      "63 the cost is [21.70796261]\n",
      "64 the cost is [21.63975079]\n",
      "65 the cost is [21.57738374]\n",
      "66 the cost is [21.52036046]\n",
      "67 the cost is [21.46822297]\n",
      "68 the cost is [21.42055252]\n",
      "69 the cost is [21.3769663]\n",
      "70 the cost is [21.33711429]\n",
      "71 the cost is [21.30067651]\n",
      "72 the cost is [21.26736039]\n",
      "73 the cost is [21.23689844]\n",
      "74 the cost is [21.20904611]\n",
      "75 the cost is [21.18357981]\n",
      "76 the cost is [21.16029509]\n",
      "77 the cost is [21.13900505]\n",
      "78 the cost is [21.11953879]\n",
      "79 the cost is [21.10174007]\n",
      "80 the cost is [21.08546602]\n",
      "81 the cost is [21.07058602]\n",
      "82 the cost is [21.05698065]\n",
      "83 the cost is [21.04454071]\n",
      "84 the cost is [21.03316636]\n",
      "85 the cost is [21.02276633]\n",
      "86 the cost is [21.01325714]\n",
      "87 the cost is [21.00456249]\n",
      "88 the cost is [20.99661259]\n",
      "89 the cost is [20.98934366]\n",
      "90 the cost is [20.98269736]\n",
      "91 the cost is [20.97662035]\n",
      "92 the cost is [20.97106387]\n",
      "93 the cost is [20.96598334]\n",
      "94 the cost is [20.96133798]\n",
      "95 the cost is [20.95709051]\n",
      "96 the cost is [20.95320687]\n",
      "97 the cost is [20.94965587]\n",
      "98 the cost is [20.94640903]\n",
      "99 the cost is [20.9434403]\n",
      "100 the cost is [20.94072584]\n",
      "101 the cost is [20.9382439]\n",
      "102 the cost is [20.93597454]\n",
      "103 the cost is [20.93389955]\n",
      "104 the cost is [20.9320023]\n",
      "105 the cost is [20.93026755]\n",
      "106 the cost is [20.92868139]\n",
      "107 the cost is [20.92723109]\n",
      "108 the cost is [20.92590501]\n",
      "109 the cost is [20.92469252]\n",
      "110 the cost is [20.92358388]\n",
      "111 the cost is [20.92257019]\n",
      "112 the cost is [20.92164333]\n",
      "113 the cost is [20.92079586]\n",
      "114 the cost is [20.92002097]\n",
      "115 the cost is [20.91931246]\n",
      "116 the cost is [20.91866463]\n",
      "117 the cost is [20.9180723]\n",
      "118 the cost is [20.91753069]\n",
      "119 the cost is [20.91703548]\n",
      "120 the cost is [20.91658268]\n",
      "121 the cost is [20.91616866]\n",
      "122 the cost is [20.91579011]\n",
      "123 the cost is [20.91544398]\n",
      "124 the cost is [20.9151275]\n",
      "125 the cost is [20.91483812]\n",
      "126 the cost is [20.91457353]\n",
      "127 the cost is [20.9143316]\n",
      "128 the cost is [20.9141104]\n",
      "129 the cost is [20.91390814]\n",
      "130 the cost is [20.9137232]\n",
      "131 the cost is [20.91355411]\n",
      "132 the cost is [20.9133995]\n",
      "133 the cost is [20.91325813]\n",
      "134 the cost is [20.91312887]\n",
      "135 the cost is [20.91301068]\n",
      "136 the cost is [20.91290261]\n",
      "137 the cost is [20.9128038]\n",
      "138 the cost is [20.91271346]\n",
      "139 the cost is [20.91263085]\n",
      "140 the cost is [20.91255531]\n",
      "141 the cost is [20.91248625]\n",
      "142 the cost is [20.9124231]\n",
      "143 the cost is [20.91236536]\n",
      "144 the cost is [20.91231257]\n",
      "145 the cost is [20.9122643]\n",
      "146 the cost is [20.91222016]\n",
      "147 the cost is [20.91217981]\n",
      "148 the cost is [20.91214291]\n",
      "149 the cost is [20.91210917]\n",
      "150 the cost is [20.91207832]\n",
      "151 the cost is [20.91205011]\n",
      "152 the cost is [20.91202432]\n",
      "153 the cost is [20.91200073]\n",
      "154 the cost is [20.91197917]\n",
      "155 the cost is [20.91195946]\n",
      "156 the cost is [20.91194143]\n",
      "157 the cost is [20.91192495]\n",
      "158 the cost is [20.91190988]\n",
      "159 the cost is [20.9118961]\n",
      "160 the cost is [20.9118835]\n",
      "161 the cost is [20.91187198]\n",
      "162 the cost is [20.91186144]\n",
      "163 the cost is [20.91185181]\n",
      "164 the cost is [20.911843]\n",
      "165 the cost is [20.91183495]\n",
      "166 the cost is [20.91182759]\n",
      "167 the cost is [20.91182086]\n",
      "168 the cost is [20.9118147]\n",
      "169 the cost is [20.91180907]\n",
      "170 the cost is [20.91180393]\n",
      "171 the cost is [20.91179922]\n",
      "172 the cost is [20.91179492]\n",
      "173 the cost is [20.91179098]\n",
      "174 the cost is [20.91178739]\n",
      "175 the cost is [20.9117841]\n",
      "176 the cost is [20.91178109]\n",
      "177 the cost is [20.91177834]\n",
      "178 the cost is [20.91177583]\n",
      "179 the cost is [20.91177353]\n",
      "180 the cost is [20.91177143]\n",
      "181 the cost is [20.91176951]\n",
      "182 the cost is [20.91176775]\n",
      "183 the cost is [20.91176614]\n",
      "184 the cost is [20.91176467]\n",
      "185 the cost is [20.91176333]\n",
      "186 the cost is [20.9117621]\n",
      "187 the cost is [20.91176098]\n",
      "188 the cost is [20.91175995]\n",
      "189 the cost is [20.91175901]\n",
      "190 the cost is [20.91175815]\n",
      "191 the cost is [20.91175737]\n",
      "192 the cost is [20.91175665]\n",
      "193 the cost is [20.911756]\n",
      "194 the cost is [20.9117554]\n",
      "195 the cost is [20.91175485]\n",
      "196 the cost is [20.91175435]\n",
      "197 the cost is [20.91175389]\n",
      "198 the cost is [20.91175347]\n",
      "199 the cost is [20.91175308]\n"
     ]
    }
   ],
   "source": [
    "k = run()"
   ]
  },
  {
   "cell_type": "code",
   "execution_count": 60,
   "metadata": {},
   "outputs": [
    {
     "data": {
      "text/plain": [
       "(5,)"
      ]
     },
     "execution_count": 60,
     "metadata": {},
     "output_type": "execute_result"
    }
   ],
   "source": [
    "k.shape"
   ]
  },
  {
   "cell_type": "code",
   "execution_count": 61,
   "metadata": {},
   "outputs": [],
   "source": [
    "k = k.reshape(-1,1)"
   ]
  },
  {
   "cell_type": "markdown",
   "metadata": {},
   "source": [
    "## calculationg Y_pred for training"
   ]
  },
  {
   "cell_type": "code",
   "execution_count": 62,
   "metadata": {},
   "outputs": [],
   "source": [
    "def pred_train(X,k):\n",
    "    y = np.dot(X,k)\n",
    "    \n",
    "   \n",
    "    return y"
   ]
  },
  {
   "cell_type": "code",
   "execution_count": 63,
   "metadata": {},
   "outputs": [],
   "source": [
    "Y_pred_train = pred_train(X,k)"
   ]
  },
  {
   "cell_type": "code",
   "execution_count": 64,
   "metadata": {},
   "outputs": [],
   "source": [
    "def score(Y,Y_pred_train,): \n",
    "    u  = ((Y_pred_train - Y)**2).sum()\n",
    "    v =  ((Y_pred_train - Y.mean())**2).sum()\n",
    "    return (1 - u/v)"
   ]
  },
  {
   "cell_type": "code",
   "execution_count": 65,
   "metadata": {},
   "outputs": [
    {
     "name": "stdout",
     "output_type": "stream",
     "text": [
      "0.9232814375424967\n"
     ]
    }
   ],
   "source": [
    "print(score(Y,Y_pred_train))"
   ]
  },
  {
   "cell_type": "markdown",
   "metadata": {},
   "source": [
    "## y_pred for testing"
   ]
  },
  {
   "cell_type": "code",
   "execution_count": 66,
   "metadata": {},
   "outputs": [],
   "source": [
    "X_test = np.loadtxt(\"ccpp_test.csv\",delimiter = \",\")\n"
   ]
  },
  {
   "cell_type": "code",
   "execution_count": 67,
   "metadata": {},
   "outputs": [
    {
     "data": {
      "text/plain": [
       "(2392, 4)"
      ]
     },
     "execution_count": 67,
     "metadata": {},
     "output_type": "execute_result"
    }
   ],
   "source": [
    "X_test.shape"
   ]
  },
  {
   "cell_type": "code",
   "execution_count": 68,
   "metadata": {},
   "outputs": [],
   "source": [
    "X_test= scaler.transform(X_test)"
   ]
  },
  {
   "cell_type": "code",
   "execution_count": 69,
   "metadata": {},
   "outputs": [],
   "source": [
    "v = np.ones((len(X_test),1))\n",
    "X_test = np.append(X_test,v,axis=1)"
   ]
  },
  {
   "cell_type": "code",
   "execution_count": 70,
   "metadata": {},
   "outputs": [
    {
     "data": {
      "text/plain": [
       "array([[-1.02742256, -0.96138014,  0.72378329,  1.20446479,  1.        ],\n",
       "       [-1.01136848, -1.25783726, -0.09942787,  0.57331371,  1.        ],\n",
       "       [ 0.97398614,  1.62360048, -1.27807846,  0.39005424,  1.        ],\n",
       "       ...,\n",
       "       [ 0.62748557,  0.93814142, -0.69965107,  1.27284519,  1.        ],\n",
       "       [ 0.51644485, -0.90099073,  0.11685368, -0.54470581,  1.        ],\n",
       "       [ 0.28499852,  0.46914312,  0.95515424,  0.80580707,  1.        ]])"
      ]
     },
     "execution_count": 70,
     "metadata": {},
     "output_type": "execute_result"
    }
   ],
   "source": [
    "X_test.shape\n",
    "X_test"
   ]
  },
  {
   "cell_type": "code",
   "execution_count": 71,
   "metadata": {},
   "outputs": [],
   "source": [
    "def pred_test(X_test,k):\n",
    "    y = np.dot(X_test,k)\n",
    "    \n",
    "   \n",
    "    return y"
   ]
  },
  {
   "cell_type": "code",
   "execution_count": 72,
   "metadata": {},
   "outputs": [],
   "source": [
    "Y_pred_test = pred_test(X_test,k)\n"
   ]
  },
  {
   "cell_type": "code",
   "execution_count": 73,
   "metadata": {},
   "outputs": [],
   "source": [
    "np.savetxt(\"ccpp_predicted_test_afterscaling1.csv\",Y_pred_test,delimiter=',')"
   ]
  },
  {
   "cell_type": "code",
   "execution_count": null,
   "metadata": {},
   "outputs": [],
   "source": []
  }
 ],
 "metadata": {
  "kernelspec": {
   "display_name": "Python 3",
   "language": "python",
   "name": "python3"
  },
  "language_info": {
   "codemirror_mode": {
    "name": "ipython",
    "version": 3
   },
   "file_extension": ".py",
   "mimetype": "text/x-python",
   "name": "python",
   "nbconvert_exporter": "python",
   "pygments_lexer": "ipython3",
   "version": "3.7.3"
  }
 },
 "nbformat": 4,
 "nbformat_minor": 2
}
